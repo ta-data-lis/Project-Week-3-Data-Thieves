{
 "cells": [
  {
   "cell_type": "code",
   "execution_count": 13,
   "id": "fe4e9020",
   "metadata": {
    "id": "fe4e9020"
   },
   "outputs": [],
   "source": [
    "#https://www.idealista.pt/media/relatorios-preco-habitacao/venda/lisboa/historico/\n",
    "#Historico de preços\n",
    "\n",
    "#my user agent\n",
    "\"\"\"Mozilla/5.0 (Windows NT 10.0; Win64; x64)\n",
    "    AppleWebKit/537.36 (KHTML, like Gecko)\n",
    "    Chrome/114.0.0.0 Safari/537.36\"\"\"\n",
    "\n",
    "import requests\n",
    "from bs4 import BeautifulSoup\n",
    "import pandas as pd\n",
    "import numpy as np\n",
    "import re"
   ]
  },
  {
   "cell_type": "markdown",
   "id": "Q5yxRq_dWMy7",
   "metadata": {
    "id": "Q5yxRq_dWMy7"
   },
   "source": [
    "# **TODOS BAIRROS**"
   ]
  },
  {
   "cell_type": "code",
   "execution_count": 14,
   "id": "HrVKaKEwe0HB",
   "metadata": {
    "colab": {
     "base_uri": "https://localhost:8080/",
     "height": 36
    },
    "id": "HrVKaKEwe0HB",
    "outputId": "2adece9d-965a-4618-cc2b-89d4894d49e7"
   },
   "outputs": [
    {
     "data": {
      "text/plain": [
       "'https://supercasa.pt/comprar-casas/lisboa/olivais/'"
      ]
     },
     "execution_count": 14,
     "metadata": {},
     "output_type": "execute_result"
    }
   ],
   "source": [
    "bairros_link = [\n",
    "\"https://supercasa.pt/comprar-casas/lisboa/santa-clara/\",\n",
    "\"https://supercasa.pt/comprar-casas/lisboa/lumiar/\",\n",
    "\"https://supercasa.pt/comprar-casas/lisboa/carnide/\",\n",
    "\"https://supercasa.pt/comprar-casas/lisboa/benfica/\",\n",
    "\"https://supercasa.pt/comprar-casas/lisboa/marvila/\",\n",
    "\"https://supercasa.pt/comprar-casas/lisboa/alvalade/\",\n",
    "\"https://supercasa.pt/comprar-casas/lisboa/sao-domingos-de-benfica/\",\n",
    "\"https://supercasa.pt/comprar-casas/lisboa/areeiro\",\n",
    "\"https://supercasa.pt/comprar-casas/lisboa/avenidas-novas/\",\n",
    "\"https://supercasa.pt/comprar-casas/lisboa/campolide/\",\n",
    "\"https://supercasa.pt/comprar-casas/lisboa/belem/\",\n",
    "\"https://supercasa.pt/comprar-casas/lisboa/ajuda/\",\n",
    "\"https://supercasa.pt/comprar-casas/lisboa/alcantara/\",\n",
    "\"https://supercasa.pt/comprar-casas/lisboa/campo-de-ourique/\",\n",
    "\"https://supercasa.pt/comprar-casas/lisboa/estrela/\",\n",
    "\"https://supercasa.pt/comprar-casas/lisboa/santo-antonio/\",\n",
    "\"https://supercasa.pt/comprar-casas/lisboa/misericordia/\",\n",
    "\"https://supercasa.pt/comprar-casas/lisboa/arroios/\",\n",
    "\"https://supercasa.pt/comprar-casas/lisboa/santa-maria-maior/\",\n",
    "\"https://supercasa.pt/comprar-casas/lisboa/sao-vicente/\",\n",
    "\"https://supercasa.pt/comprar-casas/lisboa/penha-de-franca/\",\n",
    "\"https://supercasa.pt/comprar-casas/lisboa/beato/\",\n",
    "\"https://supercasa.pt/comprar-casas/lisboa/parque-das-nacoes/\",\n",
    "\"https://supercasa.pt/comprar-casas/lisboa/olivais/\"]\n",
    "\n",
    "\n",
    "bairros_link[23]"
   ]
  },
  {
   "cell_type": "code",
   "execution_count": 15,
   "id": "vqr4_I7mcqYf",
   "metadata": {
    "colab": {
     "base_uri": "https://localhost:8080/"
    },
    "id": "vqr4_I7mcqYf",
    "outputId": "63eed0e9-a44d-4cb7-aefa-95ad328ade3a"
   },
   "outputs": [
    {
     "data": {
      "text/plain": [
       "24"
      ]
     },
     "execution_count": 15,
     "metadata": {},
     "output_type": "execute_result"
    }
   ],
   "source": [
    "# \"BAIRROS NAMES\"\n",
    "\n",
    "bairros = [\"santa-clara\", \"lumiar\", \"carnide\", \"benfica\", \"marvila\", \"alvalade\", \"sao-domingos-de-benfica\", \"areeiro\", \"avenidas-novas\", \"campolide\", \"belem\", \"ajuda\", \"alcantara\", \"campo-de-ourique\", \"estrela\", \"santo-antonio\", \"misericordia\", \"arroios\", \"santa-maria-maior\", \"sao-vicente\", \"penha-de-franca\", \"beato\", \"parque-das-nacoes\", \"olivais\"]\n",
    "len(bairros)\n"
   ]
  },
  {
   "cell_type": "code",
   "execution_count": 16,
   "id": "RpJzTEE0WDfc",
   "metadata": {
    "id": "RpJzTEE0WDfc"
   },
   "outputs": [],
   "source": [
    "def get_houses_all (pages, n):\n",
    "  new_bairro = {}\n",
    "  count = 0\n",
    "  #######################################\n",
    "  url = bairros_link[n]\n",
    "  response = requests.get(url)\n",
    "  response\n",
    "\n",
    "  soup = BeautifulSoup(response.content)\n",
    "\n",
    "  homes = soup.find_all(\"div\", attrs ={\"class\":\"property big-picture\"})\n",
    "  homes[0].get_text().strip()\n",
    "\n",
    "\n",
    "  for page in range(1,pages+1):  #we need to change the url respecting users input\n",
    "      url = f\"{bairros_link[n]}pagina-{page}\"\n",
    "      r = requests.get(url)\n",
    "      soup = BeautifulSoup(r.content)\n",
    "\n",
    "      books = soup.find_all(\"li\", attrs = {\"class\":\"col-xs-6 col-sm-4 col-md-3 col-lg-3\"})\n",
    "\n",
    "      for i in homes: #find intern func\n",
    "          price = i.find_all(\"div\", attrs={\"class\": \"property-price\"})[0].get_text().strip()\n",
    "          size_text = i.find_all(\"div\", attrs={\"class\": \"property-features\"})[0].get_text().strip()\n",
    "          zone = i.find_all(\"h2\", attrs={\"class\": \"property-list-title\"})[0].get_text().strip()\n",
    "\n",
    "\n",
    "          num_rooms_match = re.search(r'(\\d+)\\s+quartos', size_text)\n",
    "          num_rooms = int(num_rooms_match.group(1)) if num_rooms_match else None\n",
    "\n",
    "          area_match = re.search(r'Área bruta (\\d+)\\s+m²', size_text)\n",
    "          area = int(area_match.group(1)) if area_match else None\n",
    "\n",
    "          terrain_match = re.search(r'Terreno (\\d+)\\s+m²' , size_text)\n",
    "          terrain = int(terrain_match.group(1)) if terrain_match else None\n",
    "\n",
    "\n",
    "          new_bairro[count] = {\"Price\": price,\n",
    "                                \"Num Rooms\": num_rooms,\n",
    "                                \"Area (m²)\": area,\n",
    "                                \"Terrain (m²)\": terrain,\n",
    "                                \"Zone\": zone}\n",
    "          count += 1\n",
    "\n",
    "\n",
    "\n",
    "  return pd.DataFrame.from_dict(new_bairro, orient=\"index\")"
   ]
  },
  {
   "cell_type": "code",
   "execution_count": 17,
   "id": "cH0cjf18heh1",
   "metadata": {
    "id": "cH0cjf18heh1"
   },
   "outputs": [],
   "source": [
    "#RUN ALL NEIG IN PAGE\n",
    "\n",
    "bairro_dic = {}\n",
    "for x in range(0,len(bairros)):\n",
    "  new_bairro = get_houses_all(1,x)\n",
    "  bairro_dic[bairros[x]] = new_bairro\n",
    "  bairro_dic[bairros[x]][\"Area (m²)\"]=pd.to_numeric(new_bairro['Area (m²)'], errors=\"coerce\") ###\n",
    "  bairro_dic[bairros[x]][\"Price\"] = new_bairro['Price'].apply(lambda x: int(re.sub(r'\\D', '', x)))\n",
    "  bairro_dic[bairros[x]][\"value_m2\"] = round(new_bairro[\"Price\"]/new_bairro[\"Area (m²)\"],2)\n",
    "  bairro_dic[bairros[x]][\"freguesia\"] = bairros[x]"
   ]
  },
  {
   "cell_type": "code",
   "execution_count": 18,
   "id": "vZz5oDkEEjq2",
   "metadata": {
    "colab": {
     "base_uri": "https://localhost:8080/",
     "height": 423
    },
    "id": "vZz5oDkEEjq2",
    "outputId": "521a9af5-978b-4804-ece1-97117924d004"
   },
   "outputs": [
    {
     "data": {
      "text/html": [
       "<div>\n",
       "<style scoped>\n",
       "    .dataframe tbody tr th:only-of-type {\n",
       "        vertical-align: middle;\n",
       "    }\n",
       "\n",
       "    .dataframe tbody tr th {\n",
       "        vertical-align: top;\n",
       "    }\n",
       "\n",
       "    .dataframe thead th {\n",
       "        text-align: right;\n",
       "    }\n",
       "</style>\n",
       "<table border=\"1\" class=\"dataframe\">\n",
       "  <thead>\n",
       "    <tr style=\"text-align: right;\">\n",
       "      <th></th>\n",
       "      <th>Price</th>\n",
       "      <th>Num Rooms</th>\n",
       "      <th>Area (m²)</th>\n",
       "      <th>Terrain (m²)</th>\n",
       "      <th>Zone</th>\n",
       "      <th>value_m2</th>\n",
       "      <th>freguesia</th>\n",
       "    </tr>\n",
       "  </thead>\n",
       "  <tbody>\n",
       "    <tr>\n",
       "      <th>0</th>\n",
       "      <td>234000</td>\n",
       "      <td>3.0</td>\n",
       "      <td>135.0</td>\n",
       "      <td>NaN</td>\n",
       "      <td>Apartamento T3 na Rua Barata Feyo, Santa Clara...</td>\n",
       "      <td>1733.33</td>\n",
       "      <td>santa-clara</td>\n",
       "    </tr>\n",
       "    <tr>\n",
       "      <th>1</th>\n",
       "      <td>415000</td>\n",
       "      <td>3.0</td>\n",
       "      <td>116.0</td>\n",
       "      <td>NaN</td>\n",
       "      <td>Apartamento T3 em Santa Clara, Lisboa</td>\n",
       "      <td>3577.59</td>\n",
       "      <td>santa-clara</td>\n",
       "    </tr>\n",
       "    <tr>\n",
       "      <th>2</th>\n",
       "      <td>287000</td>\n",
       "      <td>NaN</td>\n",
       "      <td>69.0</td>\n",
       "      <td>NaN</td>\n",
       "      <td>Apartamento T1 em Santa Clara, Lisboa</td>\n",
       "      <td>4159.42</td>\n",
       "      <td>santa-clara</td>\n",
       "    </tr>\n",
       "    <tr>\n",
       "      <th>3</th>\n",
       "      <td>350000</td>\n",
       "      <td>2.0</td>\n",
       "      <td>106.0</td>\n",
       "      <td>NaN</td>\n",
       "      <td>Apartamento T2 na Avenida Sérgio Vieira de Mel...</td>\n",
       "      <td>3301.89</td>\n",
       "      <td>santa-clara</td>\n",
       "    </tr>\n",
       "    <tr>\n",
       "      <th>4</th>\n",
       "      <td>620000</td>\n",
       "      <td>3.0</td>\n",
       "      <td>147.0</td>\n",
       "      <td>NaN</td>\n",
       "      <td>Apartamento T3 em Calçada do Poço, Santa Clara...</td>\n",
       "      <td>4217.69</td>\n",
       "      <td>santa-clara</td>\n",
       "    </tr>\n",
       "    <tr>\n",
       "      <th>...</th>\n",
       "      <td>...</td>\n",
       "      <td>...</td>\n",
       "      <td>...</td>\n",
       "      <td>...</td>\n",
       "      <td>...</td>\n",
       "      <td>...</td>\n",
       "      <td>...</td>\n",
       "    </tr>\n",
       "    <tr>\n",
       "      <th>6</th>\n",
       "      <td>600000</td>\n",
       "      <td>2.0</td>\n",
       "      <td>109.0</td>\n",
       "      <td>NaN</td>\n",
       "      <td>Apartamento T2 em Praça da Viscondessa dos Oli...</td>\n",
       "      <td>5504.59</td>\n",
       "      <td>olivais</td>\n",
       "    </tr>\n",
       "    <tr>\n",
       "      <th>7</th>\n",
       "      <td>1200000</td>\n",
       "      <td>NaN</td>\n",
       "      <td>NaN</td>\n",
       "      <td>201.0</td>\n",
       "      <td>Moradia em Olivais, Lisboa</td>\n",
       "      <td>NaN</td>\n",
       "      <td>olivais</td>\n",
       "    </tr>\n",
       "    <tr>\n",
       "      <th>8</th>\n",
       "      <td>550000</td>\n",
       "      <td>3.0</td>\n",
       "      <td>85.0</td>\n",
       "      <td>234.0</td>\n",
       "      <td>Moradia T3 Duplex em Alameda da Encarnação, Ol...</td>\n",
       "      <td>6470.59</td>\n",
       "      <td>olivais</td>\n",
       "    </tr>\n",
       "    <tr>\n",
       "      <th>9</th>\n",
       "      <td>1150000</td>\n",
       "      <td>3.0</td>\n",
       "      <td>199.0</td>\n",
       "      <td>NaN</td>\n",
       "      <td>Apartamento T3 em Praça da Viscondessa dos Oli...</td>\n",
       "      <td>5778.89</td>\n",
       "      <td>olivais</td>\n",
       "    </tr>\n",
       "    <tr>\n",
       "      <th>10</th>\n",
       "      <td>760000</td>\n",
       "      <td>4.0</td>\n",
       "      <td>120.0</td>\n",
       "      <td>NaN</td>\n",
       "      <td>Apartamento T4 em Olivais, Lisboa</td>\n",
       "      <td>6333.33</td>\n",
       "      <td>olivais</td>\n",
       "    </tr>\n",
       "  </tbody>\n",
       "</table>\n",
       "<p>348 rows × 7 columns</p>\n",
       "</div>"
      ],
      "text/plain": [
       "      Price  Num Rooms  Area (m²)  Terrain (m²)  \\\n",
       "0    234000        3.0      135.0           NaN   \n",
       "1    415000        3.0      116.0           NaN   \n",
       "2    287000        NaN       69.0           NaN   \n",
       "3    350000        2.0      106.0           NaN   \n",
       "4    620000        3.0      147.0           NaN   \n",
       "..      ...        ...        ...           ...   \n",
       "6    600000        2.0      109.0           NaN   \n",
       "7   1200000        NaN        NaN         201.0   \n",
       "8    550000        3.0       85.0         234.0   \n",
       "9   1150000        3.0      199.0           NaN   \n",
       "10   760000        4.0      120.0           NaN   \n",
       "\n",
       "                                                 Zone  value_m2    freguesia  \n",
       "0   Apartamento T3 na Rua Barata Feyo, Santa Clara...   1733.33  santa-clara  \n",
       "1               Apartamento T3 em Santa Clara, Lisboa   3577.59  santa-clara  \n",
       "2               Apartamento T1 em Santa Clara, Lisboa   4159.42  santa-clara  \n",
       "3   Apartamento T2 na Avenida Sérgio Vieira de Mel...   3301.89  santa-clara  \n",
       "4   Apartamento T3 em Calçada do Poço, Santa Clara...   4217.69  santa-clara  \n",
       "..                                                ...       ...          ...  \n",
       "6   Apartamento T2 em Praça da Viscondessa dos Oli...   5504.59      olivais  \n",
       "7                          Moradia em Olivais, Lisboa       NaN      olivais  \n",
       "8   Moradia T3 Duplex em Alameda da Encarnação, Ol...   6470.59      olivais  \n",
       "9   Apartamento T3 em Praça da Viscondessa dos Oli...   5778.89      olivais  \n",
       "10                  Apartamento T4 em Olivais, Lisboa   6333.33      olivais  \n",
       "\n",
       "[348 rows x 7 columns]"
      ]
     },
     "execution_count": 18,
     "metadata": {},
     "output_type": "execute_result"
    }
   ],
   "source": [
    "lista_frames = list(bairro_dic.values())\n",
    "result = pd.concat(lista_frames)\n",
    "result"
   ]
  },
  {
   "cell_type": "code",
   "execution_count": 19,
   "id": "T3uSYsbDIjah",
   "metadata": {
    "id": "T3uSYsbDIjah"
   },
   "outputs": [],
   "source": [
    "result.to_csv(\"ola.csv\")"
   ]
  },
  {
   "cell_type": "code",
   "execution_count": 20,
   "id": "K0xc2rbBIwqp",
   "metadata": {
    "id": "K0xc2rbBIwqp"
   },
   "outputs": [],
   "source": [
    "result.to_excel(\"geral.xlsx\")"
   ]
  }
 ],
 "metadata": {
  "colab": {
   "provenance": []
  },
  "kernelspec": {
   "display_name": "Python 3 (ipykernel)",
   "language": "python",
   "name": "python3"
  },
  "language_info": {
   "codemirror_mode": {
    "name": "ipython",
    "version": 3
   },
   "file_extension": ".py",
   "mimetype": "text/x-python",
   "name": "python",
   "nbconvert_exporter": "python",
   "pygments_lexer": "ipython3",
   "version": "3.10.9"
  }
 },
 "nbformat": 4,
 "nbformat_minor": 5
}
